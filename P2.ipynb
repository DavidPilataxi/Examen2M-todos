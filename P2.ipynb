{
 "cells": [
  {
   "cell_type": "code",
   "execution_count": 12,
   "metadata": {},
   "outputs": [
    {
     "name": "stdout",
     "output_type": "stream",
     "text": [
      "Raíz 1: -1.9999999999993179\n",
      "Raíz 2: 1.0\n",
      "Raíz 3: 5.0\n",
      "Raíz 4: 5.0\n",
      "Raíz 5: NaN (no cambia de signo en este intervalo)\n",
      "Raíz 6: NaN (no cambia de signo en este intervalo)\n"
     ]
    }
   ],
   "source": [
    "import numpy as np\n",
    "from scipy.optimize import bisect\n",
    "\n",
    "def polynomial(x):\n",
    "    return x**5 - 6*x**4 + 2*x**3 + 20*x**2 - 27*x + 10\n",
    "\n",
    "# Raíz 1\n",
    "root_1 = bisect(polynomial, a=-10, b=0)\n",
    "print(f\"Raíz 1: {root_1}\")\n",
    "\n",
    "# Raíz 2\n",
    "root_2 = bisect(polynomial, a=0, b=2)\n",
    "print(f\"Raíz 2: {root_2}\")\n",
    "\n",
    "# Raíz 3\n",
    "root_3 = bisect(polynomial, a=2, b=5)\n",
    "print(f\"Raíz 3: {root_3}\")\n",
    "\n",
    "\n",
    "# Raíz 4 \n",
    "try:\n",
    "    root_4 = bisect(polynomial, a=6, b=10)\n",
    "    print(f\"Raíz 4: {root_4}\")\n",
    "except ValueError:\n",
    "    print(\"Raíz 4: NaN (no cambia de signo en este intervalo)\")\n",
    "\n",
    "# Raíz 5 \n",
    "try:\n",
    "    root_5 = bisect(polynomial, a=-5, b=-3)\n",
    "    print(f\"Raíz 5: {root_5}\")\n",
    "except ValueError:\n",
    "    print(\"Raíz 5: NaN (no cambia de signo en este intervalo)\")\n",
    "\n",
    "# Raíz 6 \n",
    "try:\n",
    "    root_6 = bisect(polynomial, a=-20, b=-10)\n",
    "    print(f\"Raíz 6: {root_6}\")\n",
    "except ValueError:\n",
    "    print(\"Raíz 6: NaN (no cambia de signo en este intervalo)\")\n",
    "\n",
    "\n"
   ]
  },
  {
   "cell_type": "code",
   "execution_count": null,
   "metadata": {},
   "outputs": [],
   "source": []
  }
 ],
 "metadata": {
  "kernelspec": {
   "display_name": "base",
   "language": "python",
   "name": "python3"
  },
  "language_info": {
   "codemirror_mode": {
    "name": "ipython",
    "version": 3
   },
   "file_extension": ".py",
   "mimetype": "text/x-python",
   "name": "python",
   "nbconvert_exporter": "python",
   "pygments_lexer": "ipython3",
   "version": "3.12.4"
  }
 },
 "nbformat": 4,
 "nbformat_minor": 2
}
